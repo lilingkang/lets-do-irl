{
 "cells": [
  {
   "cell_type": "code",
   "execution_count": 19,
   "metadata": {},
   "outputs": [],
   "source": [
    "import metaworld\n",
    "import random\n",
    "\n",
    "ml10 = metaworld.ML10()  # Construct the benchmark, sampling tasks\n",
    "\n",
    "testing_envs = []\n",
    "for name, env_cls in ml10.test_classes.items():\n",
    "    env = env_cls()\n",
    "    task = random.choice([task for task in ml10.test_tasks if task.env_name == name])\n",
    "    env.set_task(task)\n",
    "    testing_envs.append(env)\n",
    "\n",
    "for env in testing_envs:\n",
    "    obs = env.reset()  # Reset environment\n",
    "    a = env.action_space.sample()  # Sample an action\n",
    "    obs, reward, done, _, info = env.step(\n",
    "        a\n",
    "    )  # Step the environment with the sampled random action"
   ]
  },
  {
   "cell_type": "code",
   "execution_count": null,
   "metadata": {},
   "outputs": [],
   "source": []
  }
 ],
 "metadata": {
  "kernelspec": {
   "display_name": "my_env",
   "language": "python",
   "name": "python3"
  },
  "language_info": {
   "codemirror_mode": {
    "name": "ipython",
    "version": 3
   },
   "file_extension": ".py",
   "mimetype": "text/x-python",
   "name": "python",
   "nbconvert_exporter": "python",
   "pygments_lexer": "ipython3",
   "version": "3.9.13"
  }
 },
 "nbformat": 4,
 "nbformat_minor": 2
}
